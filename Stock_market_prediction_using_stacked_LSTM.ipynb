{
 "cells": [
  {
   "cell_type": "code",
   "execution_count": 1,
   "id": "edd0000a",
   "metadata": {},
   "outputs": [],
   "source": [
    "import pandas as pd\n",
    "import numpy as np\n",
    "import matplotlib.pyplot as plt"
   ]
  },
  {
   "cell_type": "code",
   "execution_count": 2,
   "id": "623d1ce5",
   "metadata": {},
   "outputs": [],
   "source": [
    "data=pd.read_csv(r\"C:\\Users\\souma\\OneDrive\\Documents\\NIFTY FIFTY STOCK(2000-2021)\\ADANIPORTS.csv\")"
   ]
  },
  {
   "cell_type": "code",
   "execution_count": 3,
   "id": "4ba707c3",
   "metadata": {},
   "outputs": [
    {
     "data": {
      "text/html": [
       "<div>\n",
       "<style scoped>\n",
       "    .dataframe tbody tr th:only-of-type {\n",
       "        vertical-align: middle;\n",
       "    }\n",
       "\n",
       "    .dataframe tbody tr th {\n",
       "        vertical-align: top;\n",
       "    }\n",
       "\n",
       "    .dataframe thead th {\n",
       "        text-align: right;\n",
       "    }\n",
       "</style>\n",
       "<table border=\"1\" class=\"dataframe\">\n",
       "  <thead>\n",
       "    <tr style=\"text-align: right;\">\n",
       "      <th></th>\n",
       "      <th>Date</th>\n",
       "      <th>Symbol</th>\n",
       "      <th>Series</th>\n",
       "      <th>Prev Close</th>\n",
       "      <th>Open</th>\n",
       "      <th>High</th>\n",
       "      <th>Low</th>\n",
       "      <th>Last</th>\n",
       "      <th>Close</th>\n",
       "      <th>VWAP</th>\n",
       "      <th>Volume</th>\n",
       "      <th>Turnover</th>\n",
       "      <th>Trades</th>\n",
       "      <th>Deliverable Volume</th>\n",
       "      <th>%Deliverble</th>\n",
       "    </tr>\n",
       "  </thead>\n",
       "  <tbody>\n",
       "    <tr>\n",
       "      <th>0</th>\n",
       "      <td>2007-11-27</td>\n",
       "      <td>MUNDRAPORT</td>\n",
       "      <td>EQ</td>\n",
       "      <td>440.00</td>\n",
       "      <td>770.00</td>\n",
       "      <td>1050.00</td>\n",
       "      <td>770.0</td>\n",
       "      <td>959.0</td>\n",
       "      <td>962.90</td>\n",
       "      <td>984.72</td>\n",
       "      <td>27294366</td>\n",
       "      <td>2.687719e+15</td>\n",
       "      <td>NaN</td>\n",
       "      <td>9859619</td>\n",
       "      <td>0.3612</td>\n",
       "    </tr>\n",
       "    <tr>\n",
       "      <th>1</th>\n",
       "      <td>2007-11-28</td>\n",
       "      <td>MUNDRAPORT</td>\n",
       "      <td>EQ</td>\n",
       "      <td>962.90</td>\n",
       "      <td>984.00</td>\n",
       "      <td>990.00</td>\n",
       "      <td>874.0</td>\n",
       "      <td>885.0</td>\n",
       "      <td>893.90</td>\n",
       "      <td>941.38</td>\n",
       "      <td>4581338</td>\n",
       "      <td>4.312765e+14</td>\n",
       "      <td>NaN</td>\n",
       "      <td>1453278</td>\n",
       "      <td>0.3172</td>\n",
       "    </tr>\n",
       "    <tr>\n",
       "      <th>2</th>\n",
       "      <td>2007-11-29</td>\n",
       "      <td>MUNDRAPORT</td>\n",
       "      <td>EQ</td>\n",
       "      <td>893.90</td>\n",
       "      <td>909.00</td>\n",
       "      <td>914.75</td>\n",
       "      <td>841.0</td>\n",
       "      <td>887.0</td>\n",
       "      <td>884.20</td>\n",
       "      <td>888.09</td>\n",
       "      <td>5124121</td>\n",
       "      <td>4.550658e+14</td>\n",
       "      <td>NaN</td>\n",
       "      <td>1069678</td>\n",
       "      <td>0.2088</td>\n",
       "    </tr>\n",
       "    <tr>\n",
       "      <th>3</th>\n",
       "      <td>2007-11-30</td>\n",
       "      <td>MUNDRAPORT</td>\n",
       "      <td>EQ</td>\n",
       "      <td>884.20</td>\n",
       "      <td>890.00</td>\n",
       "      <td>958.00</td>\n",
       "      <td>890.0</td>\n",
       "      <td>929.0</td>\n",
       "      <td>921.55</td>\n",
       "      <td>929.17</td>\n",
       "      <td>4609762</td>\n",
       "      <td>4.283257e+14</td>\n",
       "      <td>NaN</td>\n",
       "      <td>1260913</td>\n",
       "      <td>0.2735</td>\n",
       "    </tr>\n",
       "    <tr>\n",
       "      <th>4</th>\n",
       "      <td>2007-12-03</td>\n",
       "      <td>MUNDRAPORT</td>\n",
       "      <td>EQ</td>\n",
       "      <td>921.55</td>\n",
       "      <td>939.75</td>\n",
       "      <td>995.00</td>\n",
       "      <td>922.0</td>\n",
       "      <td>980.0</td>\n",
       "      <td>969.30</td>\n",
       "      <td>965.65</td>\n",
       "      <td>2977470</td>\n",
       "      <td>2.875200e+14</td>\n",
       "      <td>NaN</td>\n",
       "      <td>816123</td>\n",
       "      <td>0.2741</td>\n",
       "    </tr>\n",
       "  </tbody>\n",
       "</table>\n",
       "</div>"
      ],
      "text/plain": [
       "         Date      Symbol Series  Prev Close    Open     High    Low   Last  \\\n",
       "0  2007-11-27  MUNDRAPORT     EQ      440.00  770.00  1050.00  770.0  959.0   \n",
       "1  2007-11-28  MUNDRAPORT     EQ      962.90  984.00   990.00  874.0  885.0   \n",
       "2  2007-11-29  MUNDRAPORT     EQ      893.90  909.00   914.75  841.0  887.0   \n",
       "3  2007-11-30  MUNDRAPORT     EQ      884.20  890.00   958.00  890.0  929.0   \n",
       "4  2007-12-03  MUNDRAPORT     EQ      921.55  939.75   995.00  922.0  980.0   \n",
       "\n",
       "    Close    VWAP    Volume      Turnover  Trades  Deliverable Volume  \\\n",
       "0  962.90  984.72  27294366  2.687719e+15     NaN             9859619   \n",
       "1  893.90  941.38   4581338  4.312765e+14     NaN             1453278   \n",
       "2  884.20  888.09   5124121  4.550658e+14     NaN             1069678   \n",
       "3  921.55  929.17   4609762  4.283257e+14     NaN             1260913   \n",
       "4  969.30  965.65   2977470  2.875200e+14     NaN              816123   \n",
       "\n",
       "   %Deliverble  \n",
       "0       0.3612  \n",
       "1       0.3172  \n",
       "2       0.2088  \n",
       "3       0.2735  \n",
       "4       0.2741  "
      ]
     },
     "execution_count": 3,
     "metadata": {},
     "output_type": "execute_result"
    }
   ],
   "source": [
    "data.head()"
   ]
  },
  {
   "cell_type": "code",
   "execution_count": 4,
   "id": "eaf40d68",
   "metadata": {},
   "outputs": [],
   "source": [
    "data1=data.reset_index()['Close']"
   ]
  },
  {
   "cell_type": "code",
   "execution_count": 5,
   "id": "ab3695cf",
   "metadata": {},
   "outputs": [
    {
     "data": {
      "text/plain": [
       "0       962.90\n",
       "1       893.90\n",
       "2       884.20\n",
       "3       921.55\n",
       "4       969.30\n",
       "         ...  \n",
       "3317    730.75\n",
       "3318    749.15\n",
       "3319    746.25\n",
       "3320    746.75\n",
       "3321    730.05\n",
       "Name: Close, Length: 3322, dtype: float64"
      ]
     },
     "execution_count": 5,
     "metadata": {},
     "output_type": "execute_result"
    }
   ],
   "source": [
    "data1"
   ]
  },
  {
   "cell_type": "code",
   "execution_count": 6,
   "id": "6007f498",
   "metadata": {},
   "outputs": [
    {
     "data": {
      "text/plain": [
       "(3322,)"
      ]
     },
     "execution_count": 6,
     "metadata": {},
     "output_type": "execute_result"
    }
   ],
   "source": [
    "data1.shape"
   ]
  },
  {
   "cell_type": "code",
   "execution_count": 7,
   "id": "8930e368",
   "metadata": {},
   "outputs": [
    {
     "data": {
      "text/plain": [
       "[<matplotlib.lines.Line2D at 0x244499cb090>]"
      ]
     },
     "execution_count": 7,
     "metadata": {},
     "output_type": "execute_result"
    },
    {
     "data": {
      "image/png": "[encoded data removed]",
      "text/plain": [
       "<Figure size 640x480 with 1 Axes>"
      ]
     },
     "metadata": {},
     "output_type": "display_data"
    }
   ],
   "source": [
    "plt.plot(data1)"
   ]
  },
  {
   "cell_type": "code",
   "execution_count": 8,
   "id": "d04100f6",
   "metadata": {},
   "outputs": [],
   "source": [
    "from sklearn.preprocessing import MinMaxScaler\n",
    "scaler=MinMaxScaler(feature_range=(0,1))\n",
    "data1=scaler.fit_transform(np.array(data1).reshape(-1,1))"
   ]
  },
  {
   "cell_type": "code",
   "execution_count": 9,
   "id": "21fdf456",
   "metadata": {},
   "outputs": [
    {
     "data": {
      "text/plain": [
       "array([[0.71274334],\n",
       "       [0.65521697],\n",
       "       [0.64712993],\n",
       "       ...,\n",
       "       [0.53211889],\n",
       "       [0.53253575],\n",
       "       [0.5186127 ]])"
      ]
     },
     "execution_count": 9,
     "metadata": {},
     "output_type": "execute_result"
    }
   ],
   "source": [
    "data1"
   ]
  },
  {
   "cell_type": "code",
   "execution_count": 10,
   "id": "de625412",
   "metadata": {},
   "outputs": [],
   "source": [
    "training_size=int(len(data1)*0.70)\n",
    "test_size=len(data1)-training_size\n",
    "train_data,test_data=data1[0:training_size,:],data1[training_size:len(data1),:1]"
   ]
  },
  {
   "cell_type": "code",
   "execution_count": 11,
   "id": "684694da",
   "metadata": {},
   "outputs": [
    {
     "data": {
      "text/plain": [
       "(2325, 997)"
      ]
     },
     "execution_count": 11,
     "metadata": {},
     "output_type": "execute_result"
    }
   ],
   "source": [
    "training_size, test_size"
   ]
  },
  {
   "cell_type": "code",
   "execution_count": 12,
   "id": "9d2feb21",
   "metadata": {},
   "outputs": [
    {
     "data": {
      "text/plain": [
       "array([[0.71274334],\n",
       "       [0.65521697],\n",
       "       [0.64712993],\n",
       "       ...,\n",
       "       [0.17620576],\n",
       "       [0.18158323],\n",
       "       [0.18708575]])"
      ]
     },
     "execution_count": 12,
     "metadata": {},
     "output_type": "execute_result"
    }
   ],
   "source": [
    "train_data"
   ]
  },
  {
   "cell_type": "code",
   "execution_count": 13,
   "id": "a9c5e86b",
   "metadata": {},
   "outputs": [],
   "source": [
    "def create_dataset(dataset, time_step=1):\n",
    "    dataX, dataY = [], []\n",
    "    for i in range(len(dataset)-time_step-1):\n",
    "        a=dataset[i:(i+time_step), 0]\n",
    "        dataX.append(a)\n",
    "        dataY.append(dataset[i+time_step, 0])\n",
    "    return np.array(dataX), np.array(dataY)"
   ]
  },
  {
   "cell_type": "code",
   "execution_count": 14,
   "id": "54b2c26e",
   "metadata": {},
   "outputs": [],
   "source": [
    "time_step=300\n",
    "X_train,y_train=create_dataset(train_data, time_step)\n",
    "X_test,y_test=create_dataset(test_data, time_step)"
   ]
  },
  {
   "cell_type": "code",
   "execution_count": 15,
   "id": "c206a364",
   "metadata": {},
   "outputs": [
    {
     "name": "stdout",
     "output_type": "stream",
     "text": [
      "[[0.71274334 0.65521697 0.64712993 ... 0.21626579 0.21701613 0.20888741]\n",
      " [0.65521697 0.64712993 0.67826921 ... 0.21701613 0.20888741 0.19838259]\n",
      " [0.64712993 0.67826921 0.71807912 ... 0.20888741 0.19838259 0.18854475]\n",
      " ...\n",
      " [0.08949935 0.08574763 0.08691484 ... 0.18825295 0.18308391 0.17712285]\n",
      " [0.08574763 0.08691484 0.09429322 ... 0.18308391 0.17712285 0.17674768]\n",
      " [0.08691484 0.09429322 0.08774855 ... 0.17712285 0.17674768 0.17620576]]\n"
     ]
    }
   ],
   "source": [
    "print(X_train)"
   ]
  },
  {
   "cell_type": "code",
   "execution_count": 16,
   "id": "6e191462",
   "metadata": {},
   "outputs": [
    {
     "name": "stdout",
     "output_type": "stream",
     "text": [
      "(2024, 300)\n",
      "(2024,)\n"
     ]
    },
    {
     "data": {
      "text/plain": [
       "(None, None)"
      ]
     },
     "execution_count": 16,
     "metadata": {},
     "output_type": "execute_result"
    }
   ],
   "source": [
    "print(X_train.shape),print(y_train.shape)"
   ]
  },
  {
   "cell_type": "code",
   "execution_count": 17,
   "id": "941e1e18",
   "metadata": {},
   "outputs": [],
   "source": [
    "X_train=X_train.reshape(X_train.shape[0],X_train.shape[1], 1)\n",
    "X_test=X_test.reshape(X_test.shape[0],X_test.shape[1], 1)"
   ]
  },
  {
   "cell_type": "code",
   "execution_count": 20,
   "id": "4816021a",
   "metadata": {},
   "outputs": [
    {
     "name": "stdout",
     "output_type": "stream",
     "text": [
      "Model: \"sequential_1\"\n",
      "_________________________________________________________________\n",
      " Layer (type)                Output Shape              Param #   \n",
      "=================================================================\n",
      " lstm_3 (LSTM)               (None, 300, 50)           10400     \n",
      "                                                                 \n",
      " lstm_4 (LSTM)               (None, 300, 50)           20200     \n",
      "                                                                 \n",
      " lstm_5 (LSTM)               (None, 50)                20200     \n",
      "                                                                 \n",
      " dense_1 (Dense)             (None, 1)                 51        \n",
      "                                                                 \n",
      "=================================================================\n",
      "Total params: 50851 (198.64 KB)\n",
      "Trainable params: 50851 (198.64 KB)\n",
      "Non-trainable params: 0 (0.00 Byte)\n",
      "_________________________________________________________________\n"
     ]
    }
   ],
   "source": [
    "import tensorflow as tf\n",
    "from tensorflow.keras.models import Sequential\n",
    "from tensorflow.keras.layers import LSTM, Dense\n",
    "\n",
    "# Define the model\n",
    "model = Sequential([\n",
    "    LSTM(50, return_sequences=True, input_shape=(300, 1)),\n",
    "    LSTM(50, return_sequences=True),\n",
    "    LSTM(50),\n",
    "    Dense(1)\n",
    "])\n",
    "\n",
    "# Compile the model\n",
    "model.compile(loss='mean_squared_error', optimizer='adam')\n",
    "\n",
    "# Print model summary\n",
    "model.summary()"
   ]
  },
  {
   "cell_type": "code",
   "execution_count": 21,
   "id": "b77e4997",
   "metadata": {},
   "outputs": [
    {
     "name": "stdout",
     "output_type": "stream",
     "text": [
      "Epoch 1/100\n",
      "WARNING:tensorflow:From C:\\Users\\souma\\AppData\\Roaming\\Python\\Python311\\site-packages\\keras\\src\\utils\\tf_utils.py:492: The name tf.ragged.RaggedTensorValue is deprecated. Please use tf.compat.v1.ragged.RaggedTensorValue instead.\n",
      "\n",
      "32/32 [==============================] - 25s 530ms/step - loss: 0.0086 - val_loss: 7.0307e-04\n",
      "Epoch 2/100\n",
      "32/32 [==============================] - 16s 496ms/step - loss: 0.0017 - val_loss: 5.4781e-04\n",
      "Epoch 3/100\n",
      "32/32 [==============================] - 15s 477ms/step - loss: 0.0013 - val_loss: 4.6385e-04\n",
      "Epoch 4/100\n",
      "32/32 [==============================] - 14s 445ms/step - loss: 0.0014 - val_loss: 4.7484e-04\n",
      "Epoch 5/100\n",
      "32/32 [==============================] - 14s 437ms/step - loss: 0.0013 - val_loss: 5.0242e-04\n",
      "Epoch 6/100\n",
      "32/32 [==============================] - 14s 452ms/step - loss: 0.0010 - val_loss: 0.0011\n",
      "Epoch 7/100\n",
      "32/32 [==============================] - 14s 439ms/step - loss: 0.0012 - val_loss: 3.9002e-04\n",
      "Epoch 8/100\n",
      "32/32 [==============================] - 17s 538ms/step - loss: 0.0010 - val_loss: 8.5146e-04\n",
      "Epoch 9/100\n",
      "32/32 [==============================] - 20s 623ms/step - loss: 8.6551e-04 - val_loss: 3.6215e-04\n",
      "Epoch 10/100\n",
      "32/32 [==============================] - 19s 601ms/step - loss: 8.7255e-04 - val_loss: 7.0183e-04\n",
      "Epoch 11/100\n",
      "32/32 [==============================] - 20s 635ms/step - loss: 9.1072e-04 - val_loss: 3.7367e-04\n",
      "Epoch 12/100\n",
      "32/32 [==============================] - 19s 600ms/step - loss: 7.8921e-04 - val_loss: 3.3893e-04\n",
      "Epoch 13/100\n",
      "32/32 [==============================] - 19s 608ms/step - loss: 7.2343e-04 - val_loss: 3.2137e-04\n",
      "Epoch 14/100\n",
      "32/32 [==============================] - 19s 603ms/step - loss: 6.4095e-04 - val_loss: 2.7609e-04\n",
      "Epoch 15/100\n",
      "32/32 [==============================] - 20s 614ms/step - loss: 6.2911e-04 - val_loss: 3.3280e-04\n",
      "Epoch 16/100\n",
      "32/32 [==============================] - 18s 562ms/step - loss: 6.8645e-04 - val_loss: 2.3585e-04\n",
      "Epoch 17/100\n",
      "32/32 [==============================] - 14s 449ms/step - loss: 6.3005e-04 - val_loss: 2.2893e-04\n",
      "Epoch 18/100\n",
      "32/32 [==============================] - 15s 464ms/step - loss: 4.9944e-04 - val_loss: 8.4761e-04\n",
      "Epoch 19/100\n",
      "32/32 [==============================] - 15s 456ms/step - loss: 5.4682e-04 - val_loss: 2.8059e-04\n",
      "Epoch 20/100\n",
      "32/32 [==============================] - 15s 456ms/step - loss: 5.0058e-04 - val_loss: 2.0712e-04\n",
      "Epoch 21/100\n",
      "32/32 [==============================] - 14s 449ms/step - loss: 4.4370e-04 - val_loss: 2.1264e-04\n",
      "Epoch 22/100\n",
      "32/32 [==============================] - 19s 614ms/step - loss: 4.8050e-04 - val_loss: 1.9979e-04\n",
      "Epoch 23/100\n",
      "32/32 [==============================] - 19s 596ms/step - loss: 5.0319e-04 - val_loss: 2.0175e-04\n",
      "Epoch 24/100\n",
      "32/32 [==============================] - 20s 612ms/step - loss: 4.3459e-04 - val_loss: 1.9555e-04\n",
      "Epoch 25/100\n",
      "32/32 [==============================] - 19s 598ms/step - loss: 4.1666e-04 - val_loss: 1.6629e-04\n",
      "Epoch 26/100\n",
      "32/32 [==============================] - 19s 593ms/step - loss: 3.9372e-04 - val_loss: 2.5647e-04\n",
      "Epoch 27/100\n",
      "32/32 [==============================] - 20s 622ms/step - loss: 3.6238e-04 - val_loss: 2.6373e-04\n",
      "Epoch 28/100\n",
      "32/32 [==============================] - 16s 494ms/step - loss: 3.8234e-04 - val_loss: 2.1080e-04\n",
      "Epoch 29/100\n",
      "32/32 [==============================] - 15s 456ms/step - loss: 3.1661e-04 - val_loss: 3.4996e-04\n",
      "Epoch 30/100\n",
      "32/32 [==============================] - 14s 443ms/step - loss: 3.5063e-04 - val_loss: 1.3735e-04\n",
      "Epoch 31/100\n",
      "32/32 [==============================] - 14s 450ms/step - loss: 3.3055e-04 - val_loss: 1.6120e-04\n",
      "Epoch 32/100\n",
      "32/32 [==============================] - 14s 443ms/step - loss: 3.4210e-04 - val_loss: 1.4186e-04\n",
      "Epoch 33/100\n",
      "32/32 [==============================] - 15s 475ms/step - loss: 3.8907e-04 - val_loss: 1.4702e-04\n",
      "Epoch 34/100\n",
      "32/32 [==============================] - 15s 457ms/step - loss: 3.0518e-04 - val_loss: 3.0462e-04\n",
      "Epoch 35/100\n",
      "32/32 [==============================] - 19s 606ms/step - loss: 3.6617e-04 - val_loss: 3.4816e-04\n",
      "Epoch 36/100\n",
      "32/32 [==============================] - 18s 578ms/step - loss: 3.0345e-04 - val_loss: 1.8332e-04\n",
      "Epoch 37/100\n",
      "32/32 [==============================] - 15s 473ms/step - loss: 3.1482e-04 - val_loss: 2.2081e-04\n",
      "Epoch 38/100\n",
      "32/32 [==============================] - 15s 467ms/step - loss: 3.9651e-04 - val_loss: 2.7619e-04\n",
      "Epoch 39/100\n",
      "32/32 [==============================] - 15s 459ms/step - loss: 2.8090e-04 - val_loss: 1.7434e-04\n",
      "Epoch 40/100\n",
      "32/32 [==============================] - 15s 458ms/step - loss: 3.0890e-04 - val_loss: 1.1482e-04\n",
      "Epoch 41/100\n",
      "32/32 [==============================] - 14s 443ms/step - loss: 2.4755e-04 - val_loss: 2.2871e-04\n",
      "Epoch 42/100\n",
      "32/32 [==============================] - 14s 437ms/step - loss: 3.0843e-04 - val_loss: 1.5181e-04\n",
      "Epoch 43/100\n",
      "32/32 [==============================] - 14s 444ms/step - loss: 2.4967e-04 - val_loss: 1.7235e-04\n",
      "Epoch 44/100\n",
      "32/32 [==============================] - 14s 441ms/step - loss: 2.5447e-04 - val_loss: 1.4141e-04\n",
      "Epoch 45/100\n",
      "32/32 [==============================] - 15s 460ms/step - loss: 2.8813e-04 - val_loss: 1.1094e-04\n",
      "Epoch 46/100\n",
      "32/32 [==============================] - 15s 483ms/step - loss: 2.4578e-04 - val_loss: 1.0657e-04\n",
      "Epoch 47/100\n",
      "32/32 [==============================] - 15s 483ms/step - loss: 2.5484e-04 - val_loss: 1.4938e-04\n",
      "Epoch 48/100\n",
      "32/32 [==============================] - 15s 475ms/step - loss: 2.8886e-04 - val_loss: 1.2234e-04\n",
      "Epoch 49/100\n",
      "32/32 [==============================] - 15s 483ms/step - loss: 3.0126e-04 - val_loss: 1.5999e-04\n",
      "Epoch 50/100\n",
      "32/32 [==============================] - 15s 476ms/step - loss: 2.4425e-04 - val_loss: 1.1564e-04\n",
      "Epoch 51/100\n",
      "32/32 [==============================] - 16s 501ms/step - loss: 2.3493e-04 - val_loss: 9.9335e-05\n",
      "Epoch 52/100\n",
      "32/32 [==============================] - 15s 482ms/step - loss: 2.3792e-04 - val_loss: 1.2098e-04\n",
      "Epoch 53/100\n",
      "32/32 [==============================] - 14s 439ms/step - loss: 2.5433e-04 - val_loss: 1.1953e-04\n",
      "Epoch 54/100\n",
      "32/32 [==============================] - 14s 453ms/step - loss: 2.4688e-04 - val_loss: 1.5570e-04\n",
      "Epoch 55/100\n",
      "32/32 [==============================] - 14s 446ms/step - loss: 2.4522e-04 - val_loss: 1.1034e-04\n",
      "Epoch 56/100\n",
      "32/32 [==============================] - 14s 443ms/step - loss: 2.2977e-04 - val_loss: 9.5186e-05\n",
      "Epoch 57/100\n",
      "32/32 [==============================] - 14s 445ms/step - loss: 2.3718e-04 - val_loss: 1.2376e-04\n",
      "Epoch 58/100\n",
      "32/32 [==============================] - 14s 441ms/step - loss: 2.3157e-04 - val_loss: 1.5053e-04\n",
      "Epoch 59/100\n",
      "32/32 [==============================] - 14s 449ms/step - loss: 2.2954e-04 - val_loss: 9.3527e-05\n",
      "Epoch 60/100\n",
      "32/32 [==============================] - 14s 440ms/step - loss: 2.2036e-04 - val_loss: 1.0071e-04\n",
      "Epoch 61/100\n",
      "32/32 [==============================] - 14s 444ms/step - loss: 2.3631e-04 - val_loss: 2.0026e-04\n",
      "Epoch 62/100\n",
      "32/32 [==============================] - 14s 445ms/step - loss: 2.7635e-04 - val_loss: 1.5280e-04\n",
      "Epoch 63/100\n",
      "32/32 [==============================] - 14s 449ms/step - loss: 2.4185e-04 - val_loss: 1.4399e-04\n",
      "Epoch 64/100\n",
      "32/32 [==============================] - 14s 442ms/step - loss: 2.5046e-04 - val_loss: 9.2598e-05\n",
      "Epoch 65/100\n",
      "32/32 [==============================] - 14s 443ms/step - loss: 2.3925e-04 - val_loss: 3.1702e-04\n",
      "Epoch 66/100\n",
      "32/32 [==============================] - 14s 453ms/step - loss: 2.6887e-04 - val_loss: 1.0506e-04\n",
      "Epoch 67/100\n",
      "32/32 [==============================] - 14s 443ms/step - loss: 2.5754e-04 - val_loss: 9.8853e-05\n",
      "Epoch 68/100\n",
      "32/32 [==============================] - 14s 449ms/step - loss: 2.3642e-04 - val_loss: 1.3522e-04\n",
      "Epoch 69/100\n",
      "32/32 [==============================] - 14s 440ms/step - loss: 2.5029e-04 - val_loss: 9.2748e-05\n",
      "Epoch 70/100\n",
      "32/32 [==============================] - 14s 441ms/step - loss: 2.2186e-04 - val_loss: 1.2088e-04\n",
      "Epoch 71/100\n",
      "32/32 [==============================] - 14s 449ms/step - loss: 2.3571e-04 - val_loss: 1.9100e-04\n",
      "Epoch 72/100\n",
      "32/32 [==============================] - 14s 445ms/step - loss: 2.2834e-04 - val_loss: 9.8253e-05\n",
      "Epoch 73/100\n"
     ]
    },
    {
     "name": "stdout",
     "output_type": "stream",
     "text": [
      "32/32 [==============================] - 14s 446ms/step - loss: 2.1832e-04 - val_loss: 9.9914e-05\n",
      "Epoch 74/100\n",
      "32/32 [==============================] - 18s 554ms/step - loss: 2.4455e-04 - val_loss: 3.4405e-04\n",
      "Epoch 75/100\n",
      "32/32 [==============================] - 1338s 43s/step - loss: 2.7039e-04 - val_loss: 1.5235e-04\n",
      "Epoch 76/100\n",
      "32/32 [==============================] - 16s 485ms/step - loss: 2.4885e-04 - val_loss: 9.4533e-05\n",
      "Epoch 77/100\n",
      "32/32 [==============================] - 15s 455ms/step - loss: 2.3458e-04 - val_loss: 1.2061e-04\n",
      "Epoch 78/100\n",
      "32/32 [==============================] - 19s 612ms/step - loss: 2.2400e-04 - val_loss: 9.4518e-05\n",
      "Epoch 79/100\n",
      "32/32 [==============================] - 21s 652ms/step - loss: 2.1922e-04 - val_loss: 9.1345e-05\n",
      "Epoch 80/100\n",
      "32/32 [==============================] - 20s 619ms/step - loss: 2.2748e-04 - val_loss: 9.5597e-05\n",
      "Epoch 81/100\n",
      "32/32 [==============================] - 20s 631ms/step - loss: 2.3185e-04 - val_loss: 1.9880e-04\n",
      "Epoch 82/100\n",
      "32/32 [==============================] - 20s 641ms/step - loss: 2.3173e-04 - val_loss: 1.4111e-04\n",
      "Epoch 83/100\n",
      "32/32 [==============================] - 16s 495ms/step - loss: 2.4490e-04 - val_loss: 8.8717e-05\n",
      "Epoch 84/100\n",
      "32/32 [==============================] - 14s 454ms/step - loss: 2.0577e-04 - val_loss: 2.8742e-04\n",
      "Epoch 85/100\n",
      "32/32 [==============================] - 14s 451ms/step - loss: 2.4781e-04 - val_loss: 1.1348e-04\n",
      "Epoch 86/100\n",
      "32/32 [==============================] - 14s 450ms/step - loss: 2.2379e-04 - val_loss: 1.1054e-04\n",
      "Epoch 87/100\n",
      "32/32 [==============================] - 15s 465ms/step - loss: 2.1258e-04 - val_loss: 9.6821e-05\n",
      "Epoch 88/100\n",
      "32/32 [==============================] - 15s 463ms/step - loss: 2.4567e-04 - val_loss: 1.0064e-04\n",
      "Epoch 89/100\n",
      "32/32 [==============================] - 16s 513ms/step - loss: 2.1882e-04 - val_loss: 1.1388e-04\n",
      "Epoch 90/100\n",
      "32/32 [==============================] - 16s 506ms/step - loss: 2.4247e-04 - val_loss: 1.7862e-04\n",
      "Epoch 91/100\n",
      "32/32 [==============================] - 16s 495ms/step - loss: 2.4485e-04 - val_loss: 9.3535e-05\n",
      "Epoch 92/100\n",
      "32/32 [==============================] - 16s 501ms/step - loss: 2.1317e-04 - val_loss: 9.4497e-05\n",
      "Epoch 93/100\n",
      "32/32 [==============================] - 15s 460ms/step - loss: 2.1626e-04 - val_loss: 1.7776e-04\n",
      "Epoch 94/100\n",
      "32/32 [==============================] - 14s 440ms/step - loss: 2.2922e-04 - val_loss: 1.3933e-04\n",
      "Epoch 95/100\n",
      "32/32 [==============================] - 14s 438ms/step - loss: 2.2195e-04 - val_loss: 9.6321e-05\n",
      "Epoch 96/100\n",
      "32/32 [==============================] - 14s 440ms/step - loss: 2.2183e-04 - val_loss: 1.0131e-04\n",
      "Epoch 97/100\n",
      "32/32 [==============================] - 15s 454ms/step - loss: 2.3865e-04 - val_loss: 1.2340e-04\n",
      "Epoch 98/100\n",
      "32/32 [==============================] - 18s 559ms/step - loss: 2.2404e-04 - val_loss: 1.1697e-04\n",
      "Epoch 99/100\n",
      "32/32 [==============================] - 18s 556ms/step - loss: 2.1509e-04 - val_loss: 9.6641e-05\n",
      "Epoch 100/100\n",
      "32/32 [==============================] - 14s 445ms/step - loss: 2.0516e-04 - val_loss: 2.3372e-04\n"
     ]
    },
    {
     "data": {
      "text/plain": [
       "<keras.src.callbacks.History at 0x244577e2650>"
      ]
     },
     "execution_count": 21,
     "metadata": {},
     "output_type": "execute_result"
    }
   ],
   "source": [
    "model.fit(X_train,y_train,validation_data=(X_test,y_test),epochs=100,batch_size=64,verbose=1)"
   ]
  },
  {
   "cell_type": "code",
   "execution_count": 22,
   "id": "d52b7a6f",
   "metadata": {},
   "outputs": [
    {
     "name": "stdout",
     "output_type": "stream",
     "text": [
      "64/64 [==============================] - 9s 106ms/step\n"
     ]
    }
   ],
   "source": [
    "train_predict=model.predict(X_train)"
   ]
  },
  {
   "cell_type": "code",
   "execution_count": 23,
   "id": "aa0974c8",
   "metadata": {},
   "outputs": [
    {
     "name": "stdout",
     "output_type": "stream",
     "text": [
      "22/22 [==============================] - 2s 105ms/step\n"
     ]
    }
   ],
   "source": [
    "test_predict=model.predict(X_test)"
   ]
  },
  {
   "cell_type": "code",
   "execution_count": 24,
   "id": "1399a728",
   "metadata": {},
   "outputs": [],
   "source": [
    "train_predict=scaler.inverse_transform(train_predict)\n",
    "test_predict=scaler.inverse_transform(test_predict)"
   ]
  },
  {
   "cell_type": "code",
   "execution_count": 25,
   "id": "f950caaa",
   "metadata": {},
   "outputs": [
    {
     "data": {
      "text/plain": [
       "322.51150523871723"
      ]
     },
     "execution_count": 25,
     "metadata": {},
     "output_type": "execute_result"
    }
   ],
   "source": [
    "import math\n",
    "from sklearn.metrics import mean_squared_error\n",
    "math.sqrt(mean_squared_error(y_train,train_predict))"
   ]
  },
  {
   "cell_type": "code",
   "execution_count": 26,
   "id": "62317cba",
   "metadata": {},
   "outputs": [
    {
     "data": {
      "text/plain": [
       "394.6874170449068"
      ]
     },
     "execution_count": 26,
     "metadata": {},
     "output_type": "execute_result"
    }
   ],
   "source": [
    "math.sqrt(mean_squared_error(y_test,test_predict))"
   ]
  },
  {
   "cell_type": "code",
   "execution_count": 30,
   "id": "e8aed881",
   "metadata": {},
   "outputs": [
    {
     "data": {
      "image/png": "[encoded data removed]",
      "text/plain": [
       "<Figure size 640x480 with 1 Axes>"
      ]
     },
     "metadata": {},
     "output_type": "display_data"
    }
   ],
   "source": [
    "### Plotting \n",
    "# shift train predictions for plotting\n",
    "look_back=300\n",
    "trainPredictPlot = np.empty_like(data1)\n",
    "trainPredictPlot[:, :] = np.nan\n",
    "trainPredictPlot[look_back:len(train_predict)+look_back, :] = train_predict\n",
    "# shift test predictions for plotting\n",
    "testPredictPlot = np.empty_like(data1)\n",
    "testPredictPlot[:, :] = np.nan\n",
    "testPredictPlot[len(train_predict)+(look_back*2)+1:len(data1)-1, :] = test_predict\n",
    "# plot baseline and predictions\n",
    "plt.plot(scaler.inverse_transform(data1))\n",
    "plt.plot(trainPredictPlot)\n",
    "plt.plot(testPredictPlot)\n",
    "plt.show()"
   ]
  },
  {
   "cell_type": "code",
   "execution_count": 31,
   "id": "76c090e8",
   "metadata": {},
   "outputs": [
    {
     "data": {
      "text/plain": [
       "997"
      ]
     },
     "execution_count": 31,
     "metadata": {},
     "output_type": "execute_result"
    }
   ],
   "source": [
    "len(test_data)"
   ]
  },
  {
   "cell_type": "code",
   "execution_count": 37,
   "id": "faa0ff53",
   "metadata": {},
   "outputs": [
    {
     "data": {
      "text/plain": [
       "(1, 100)"
      ]
     },
     "execution_count": 37,
     "metadata": {},
     "output_type": "execute_result"
    }
   ],
   "source": [
    "x_input=test_data[897:].reshape(1,-1)\n",
    "x_input.shape"
   ]
  },
  {
   "cell_type": "code",
   "execution_count": 38,
   "id": "509ca8c4",
   "metadata": {},
   "outputs": [],
   "source": [
    "temp_input=list(x_input)\n",
    "temp_input=temp_input[0].tolist()"
   ]
  },
  {
   "cell_type": "code",
   "execution_count": 39,
   "id": "e55cf10c",
   "metadata": {},
   "outputs": [
    {
     "data": {
      "text/plain": [
       "[0.27329192546583847,\n",
       " 0.28821543207303346,\n",
       " 0.30305556713493687,\n",
       " 0.29626078619367213,\n",
       " 0.2967193296927758,\n",
       " 0.3026387094084789,\n",
       " 0.29872024677977405,\n",
       " 0.29930384759681516,\n",
       " 0.30659885780982954,\n",
       " 0.30643211471924636,\n",
       " 0.29992913418650213,\n",
       " 0.2962191004210263,\n",
       " 0.28033682104297797,\n",
       " 0.30067947809412643,\n",
       " 0.3024302805452499,\n",
       " 0.3089332610779941,\n",
       " 0.31310183834257366,\n",
       " 0.3129767810246362,\n",
       " 0.3146442119304681,\n",
       " 0.31326858143315683,\n",
       " 0.3300262620367669,\n",
       " 0.325899370544833,\n",
       " 0.32635791404393677,\n",
       " 0.3241485680937096,\n",
       " 0.33836341656592606,\n",
       " 0.34098962024261115,\n",
       " 0.33377798157488847,\n",
       " 0.33619575638834465,\n",
       " 0.357372128892409,\n",
       " 0.35762224352828387,\n",
       " 0.3501188044520406,\n",
       " 0.3397390470632373,\n",
       " 0.35416232439868267,\n",
       " 0.3756721830839135,\n",
       " 0.36654299887448416,\n",
       " 0.35666347075743043,\n",
       " 0.34653382800450205,\n",
       " 0.3425319938305057,\n",
       " 0.3427404226937346,\n",
       " 0.33490349743632497,\n",
       " 0.3624577931551961,\n",
       " 0.36916920255116925,\n",
       " 0.3769227562632873,\n",
       " 0.3838425945224895,\n",
       " 0.3826337071157614,\n",
       " 0.3952228104547917,\n",
       " 0.3951394389095002,\n",
       " 0.390887490099629,\n",
       " 0.4033932218933678,\n",
       " 0.42402767935303676,\n",
       " 0.43332360665304925,\n",
       " 0.44066030263870937,\n",
       " 0.456667639334695,\n",
       " 0.4635874775938972,\n",
       " 0.4547917795656342,\n",
       " 0.4717162032598273,\n",
       " 0.46187836091541956,\n",
       " 0.4645462503647505,\n",
       " 0.4971445245737629,\n",
       " 0.4734670057109508,\n",
       " 0.4876401684105214,\n",
       " 0.5106507149110008,\n",
       " 0.5184459543957647,\n",
       " 0.5372879236316646,\n",
       " 0.5343699195464587,\n",
       " 0.533911376047355,\n",
       " 0.5358706073617074,\n",
       " 0.5313685439159614,\n",
       " 0.5170286381258076,\n",
       " 0.5094418275042727,\n",
       " 0.5080245112343157,\n",
       " 0.48376339155446246,\n",
       " 0.4765934386593855,\n",
       " 0.4820959606486306,\n",
       " 0.5118179165450831,\n",
       " 0.5256992788361331,\n",
       " 0.4992704989786986,\n",
       " 0.48376339155446246,\n",
       " 0.496102380257618,\n",
       " 0.5023552461544873,\n",
       " 0.4955604652132227,\n",
       " 0.5237817332944266,\n",
       " 0.5287840260119221,\n",
       " 0.6065696777689774,\n",
       " 0.5892283963483262,\n",
       " 0.5961065488348826,\n",
       " 0.5966067781066322,\n",
       " 0.5307849430989203,\n",
       " 0.5194464129392637,\n",
       " 0.5355371211805411,\n",
       " 0.5398307557630581,\n",
       " 0.511025886864813,\n",
       " 0.510609029138355,\n",
       " 0.5250739922464462,\n",
       " 0.5146942348576431,\n",
       " 0.519196298303389,\n",
       " 0.5345366626370419,\n",
       " 0.5321188878235857,\n",
       " 0.5325357455500437,\n",
       " 0.5186126974863479]"
      ]
     },
     "execution_count": 39,
     "metadata": {},
     "output_type": "execute_result"
    }
   ],
   "source": [
    "temp_input"
   ]
  },
  {
   "cell_type": "code",
   "execution_count": 40,
   "id": "9f98e6b5",
   "metadata": {},
   "outputs": [
    {
     "name": "stdout",
     "output_type": "stream",
     "text": [
      "[0.49757093]\n",
      "101\n",
      "1 day input [0.28821543 0.30305557 0.29626079 0.29671933 0.30263871 0.29872025\n",
      " 0.29930385 0.30659886 0.30643211 0.29992913 0.2962191  0.28033682\n",
      " 0.30067948 0.30243028 0.30893326 0.31310184 0.31297678 0.31464421\n",
      " 0.31326858 0.33002626 0.32589937 0.32635791 0.32414857 0.33836342\n",
      " 0.34098962 0.33377798 0.33619576 0.35737213 0.35762224 0.3501188\n",
      " 0.33973905 0.35416232 0.37567218 0.366543   0.35666347 0.34653383\n",
      " 0.34253199 0.34274042 0.3349035  0.36245779 0.3691692  0.37692276\n",
      " 0.38384259 0.38263371 0.39522281 0.39513944 0.39088749 0.40339322\n",
      " 0.42402768 0.43332361 0.4406603  0.45666764 0.46358748 0.45479178\n",
      " 0.4717162  0.46187836 0.46454625 0.49714452 0.47346701 0.48764017\n",
      " 0.51065071 0.51844595 0.53728792 0.53436992 0.53391138 0.53587061\n",
      " 0.53136854 0.51702864 0.50944183 0.50802451 0.48376339 0.47659344\n",
      " 0.48209596 0.51181792 0.52569928 0.4992705  0.48376339 0.49610238\n",
      " 0.50235525 0.49556047 0.52378173 0.52878403 0.60656968 0.5892284\n",
      " 0.59610655 0.59660678 0.53078494 0.51944641 0.53553712 0.53983076\n",
      " 0.51102589 0.51060903 0.52507399 0.51469423 0.5191963  0.53453666\n",
      " 0.53211889 0.53253575 0.5186127  0.49757093]\n",
      "1 day output [[0.4772592]]\n",
      "2 day input [0.30305557 0.29626079 0.29671933 0.30263871 0.29872025 0.29930385\n",
      " 0.30659886 0.30643211 0.29992913 0.2962191  0.28033682 0.30067948\n",
      " 0.30243028 0.30893326 0.31310184 0.31297678 0.31464421 0.31326858\n",
      " 0.33002626 0.32589937 0.32635791 0.32414857 0.33836342 0.34098962\n",
      " 0.33377798 0.33619576 0.35737213 0.35762224 0.3501188  0.33973905\n",
      " 0.35416232 0.37567218 0.366543   0.35666347 0.34653383 0.34253199\n",
      " 0.34274042 0.3349035  0.36245779 0.3691692  0.37692276 0.38384259\n",
      " 0.38263371 0.39522281 0.39513944 0.39088749 0.40339322 0.42402768\n",
      " 0.43332361 0.4406603  0.45666764 0.46358748 0.45479178 0.4717162\n",
      " 0.46187836 0.46454625 0.49714452 0.47346701 0.48764017 0.51065071\n",
      " 0.51844595 0.53728792 0.53436992 0.53391138 0.53587061 0.53136854\n",
      " 0.51702864 0.50944183 0.50802451 0.48376339 0.47659344 0.48209596\n",
      " 0.51181792 0.52569928 0.4992705  0.48376339 0.49610238 0.50235525\n",
      " 0.49556047 0.52378173 0.52878403 0.60656968 0.5892284  0.59610655\n",
      " 0.59660678 0.53078494 0.51944641 0.53553712 0.53983076 0.51102589\n",
      " 0.51060903 0.52507399 0.51469423 0.5191963  0.53453666 0.53211889\n",
      " 0.53253575 0.5186127  0.49757093 0.47725919]\n",
      "2 day output [[0.46077013]]\n",
      "3 day input [0.29626079 0.29671933 0.30263871 0.29872025 0.29930385 0.30659886\n",
      " 0.30643211 0.29992913 0.2962191  0.28033682 0.30067948 0.30243028\n",
      " 0.30893326 0.31310184 0.31297678 0.31464421 0.31326858 0.33002626\n",
      " 0.32589937 0.32635791 0.32414857 0.33836342 0.34098962 0.33377798\n",
      " 0.33619576 0.35737213 0.35762224 0.3501188  0.33973905 0.35416232\n",
      " 0.37567218 0.366543   0.35666347 0.34653383 0.34253199 0.34274042\n",
      " 0.3349035  0.36245779 0.3691692  0.37692276 0.38384259 0.38263371\n",
      " 0.39522281 0.39513944 0.39088749 0.40339322 0.42402768 0.43332361\n",
      " 0.4406603  0.45666764 0.46358748 0.45479178 0.4717162  0.46187836\n",
      " 0.46454625 0.49714452 0.47346701 0.48764017 0.51065071 0.51844595\n",
      " 0.53728792 0.53436992 0.53391138 0.53587061 0.53136854 0.51702864\n",
      " 0.50944183 0.50802451 0.48376339 0.47659344 0.48209596 0.51181792\n",
      " 0.52569928 0.4992705  0.48376339 0.49610238 0.50235525 0.49556047\n",
      " 0.52378173 0.52878403 0.60656968 0.5892284  0.59610655 0.59660678\n",
      " 0.53078494 0.51944641 0.53553712 0.53983076 0.51102589 0.51060903\n",
      " 0.52507399 0.51469423 0.5191963  0.53453666 0.53211889 0.53253575\n",
      " 0.5186127  0.49757093 0.47725919 0.46077013]\n",
      "3 day output [[0.44941282]]\n",
      "4 day input [0.29671933 0.30263871 0.29872025 0.29930385 0.30659886 0.30643211\n",
      " 0.29992913 0.2962191  0.28033682 0.30067948 0.30243028 0.30893326\n",
      " 0.31310184 0.31297678 0.31464421 0.31326858 0.33002626 0.32589937\n",
      " 0.32635791 0.32414857 0.33836342 0.34098962 0.33377798 0.33619576\n",
      " 0.35737213 0.35762224 0.3501188  0.33973905 0.35416232 0.37567218\n",
      " 0.366543   0.35666347 0.34653383 0.34253199 0.34274042 0.3349035\n",
      " 0.36245779 0.3691692  0.37692276 0.38384259 0.38263371 0.39522281\n",
      " 0.39513944 0.39088749 0.40339322 0.42402768 0.43332361 0.4406603\n",
      " 0.45666764 0.46358748 0.45479178 0.4717162  0.46187836 0.46454625\n",
      " 0.49714452 0.47346701 0.48764017 0.51065071 0.51844595 0.53728792\n",
      " 0.53436992 0.53391138 0.53587061 0.53136854 0.51702864 0.50944183\n",
      " 0.50802451 0.48376339 0.47659344 0.48209596 0.51181792 0.52569928\n",
      " 0.4992705  0.48376339 0.49610238 0.50235525 0.49556047 0.52378173\n",
      " 0.52878403 0.60656968 0.5892284  0.59610655 0.59660678 0.53078494\n",
      " 0.51944641 0.53553712 0.53983076 0.51102589 0.51060903 0.52507399\n",
      " 0.51469423 0.5191963  0.53453666 0.53211889 0.53253575 0.5186127\n",
      " 0.49757093 0.47725919 0.46077013 0.44941282]\n",
      "4 day output [[0.44128314]]\n",
      "5 day input [0.30263871 0.29872025 0.29930385 0.30659886 0.30643211 0.29992913\n",
      " 0.2962191  0.28033682 0.30067948 0.30243028 0.30893326 0.31310184\n",
      " 0.31297678 0.31464421 0.31326858 0.33002626 0.32589937 0.32635791\n",
      " 0.32414857 0.33836342 0.34098962 0.33377798 0.33619576 0.35737213\n",
      " 0.35762224 0.3501188  0.33973905 0.35416232 0.37567218 0.366543\n",
      " 0.35666347 0.34653383 0.34253199 0.34274042 0.3349035  0.36245779\n",
      " 0.3691692  0.37692276 0.38384259 0.38263371 0.39522281 0.39513944\n",
      " 0.39088749 0.40339322 0.42402768 0.43332361 0.4406603  0.45666764\n",
      " 0.46358748 0.45479178 0.4717162  0.46187836 0.46454625 0.49714452\n",
      " 0.47346701 0.48764017 0.51065071 0.51844595 0.53728792 0.53436992\n",
      " 0.53391138 0.53587061 0.53136854 0.51702864 0.50944183 0.50802451\n",
      " 0.48376339 0.47659344 0.48209596 0.51181792 0.52569928 0.4992705\n",
      " 0.48376339 0.49610238 0.50235525 0.49556047 0.52378173 0.52878403\n",
      " 0.60656968 0.5892284  0.59610655 0.59660678 0.53078494 0.51944641\n",
      " 0.53553712 0.53983076 0.51102589 0.51060903 0.52507399 0.51469423\n",
      " 0.5191963  0.53453666 0.53211889 0.53253575 0.5186127  0.49757093\n",
      " 0.47725919 0.46077013 0.44941282 0.44128314]\n",
      "5 day output [[0.43373433]]\n",
      "6 day input [0.29872025 0.29930385 0.30659886 0.30643211 0.29992913 0.2962191\n",
      " 0.28033682 0.30067948 0.30243028 0.30893326 0.31310184 0.31297678\n",
      " 0.31464421 0.31326858 0.33002626 0.32589937 0.32635791 0.32414857\n",
      " 0.33836342 0.34098962 0.33377798 0.33619576 0.35737213 0.35762224\n",
      " 0.3501188  0.33973905 0.35416232 0.37567218 0.366543   0.35666347\n",
      " 0.34653383 0.34253199 0.34274042 0.3349035  0.36245779 0.3691692\n",
      " 0.37692276 0.38384259 0.38263371 0.39522281 0.39513944 0.39088749\n",
      " 0.40339322 0.42402768 0.43332361 0.4406603  0.45666764 0.46358748\n",
      " 0.45479178 0.4717162  0.46187836 0.46454625 0.49714452 0.47346701\n",
      " 0.48764017 0.51065071 0.51844595 0.53728792 0.53436992 0.53391138\n",
      " 0.53587061 0.53136854 0.51702864 0.50944183 0.50802451 0.48376339\n",
      " 0.47659344 0.48209596 0.51181792 0.52569928 0.4992705  0.48376339\n",
      " 0.49610238 0.50235525 0.49556047 0.52378173 0.52878403 0.60656968\n",
      " 0.5892284  0.59610655 0.59660678 0.53078494 0.51944641 0.53553712\n",
      " 0.53983076 0.51102589 0.51060903 0.52507399 0.51469423 0.5191963\n",
      " 0.53453666 0.53211889 0.53253575 0.5186127  0.49757093 0.47725919\n",
      " 0.46077013 0.44941282 0.44128314 0.43373433]\n",
      "6 day output [[0.42474982]]\n",
      "7 day input [0.29930385 0.30659886 0.30643211 0.29992913 0.2962191  0.28033682\n",
      " 0.30067948 0.30243028 0.30893326 0.31310184 0.31297678 0.31464421\n",
      " 0.31326858 0.33002626 0.32589937 0.32635791 0.32414857 0.33836342\n",
      " 0.34098962 0.33377798 0.33619576 0.35737213 0.35762224 0.3501188\n",
      " 0.33973905 0.35416232 0.37567218 0.366543   0.35666347 0.34653383\n",
      " 0.34253199 0.34274042 0.3349035  0.36245779 0.3691692  0.37692276\n",
      " 0.38384259 0.38263371 0.39522281 0.39513944 0.39088749 0.40339322\n",
      " 0.42402768 0.43332361 0.4406603  0.45666764 0.46358748 0.45479178\n",
      " 0.4717162  0.46187836 0.46454625 0.49714452 0.47346701 0.48764017\n",
      " 0.51065071 0.51844595 0.53728792 0.53436992 0.53391138 0.53587061\n",
      " 0.53136854 0.51702864 0.50944183 0.50802451 0.48376339 0.47659344\n",
      " 0.48209596 0.51181792 0.52569928 0.4992705  0.48376339 0.49610238\n",
      " 0.50235525 0.49556047 0.52378173 0.52878403 0.60656968 0.5892284\n",
      " 0.59610655 0.59660678 0.53078494 0.51944641 0.53553712 0.53983076\n",
      " 0.51102589 0.51060903 0.52507399 0.51469423 0.5191963  0.53453666\n",
      " 0.53211889 0.53253575 0.5186127  0.49757093 0.47725919 0.46077013\n",
      " 0.44941282 0.44128314 0.43373433 0.42474982]\n",
      "7 day output [[0.4134656]]\n",
      "8 day input [0.30659886 0.30643211 0.29992913 0.2962191  0.28033682 0.30067948\n",
      " 0.30243028 0.30893326 0.31310184 0.31297678 0.31464421 0.31326858\n",
      " 0.33002626 0.32589937 0.32635791 0.32414857 0.33836342 0.34098962\n",
      " 0.33377798 0.33619576 0.35737213 0.35762224 0.3501188  0.33973905\n",
      " 0.35416232 0.37567218 0.366543   0.35666347 0.34653383 0.34253199\n",
      " 0.34274042 0.3349035  0.36245779 0.3691692  0.37692276 0.38384259\n",
      " 0.38263371 0.39522281 0.39513944 0.39088749 0.40339322 0.42402768\n",
      " 0.43332361 0.4406603  0.45666764 0.46358748 0.45479178 0.4717162\n",
      " 0.46187836 0.46454625 0.49714452 0.47346701 0.48764017 0.51065071\n",
      " 0.51844595 0.53728792 0.53436992 0.53391138 0.53587061 0.53136854\n",
      " 0.51702864 0.50944183 0.50802451 0.48376339 0.47659344 0.48209596\n",
      " 0.51181792 0.52569928 0.4992705  0.48376339 0.49610238 0.50235525\n",
      " 0.49556047 0.52378173 0.52878403 0.60656968 0.5892284  0.59610655\n",
      " 0.59660678 0.53078494 0.51944641 0.53553712 0.53983076 0.51102589\n",
      " 0.51060903 0.52507399 0.51469423 0.5191963  0.53453666 0.53211889\n",
      " 0.53253575 0.5186127  0.49757093 0.47725919 0.46077013 0.44941282\n",
      " 0.44128314 0.43373433 0.42474982 0.41346559]\n",
      "8 day output [[0.40006465]]\n",
      "9 day input [0.30643211 0.29992913 0.2962191  0.28033682 0.30067948 0.30243028\n",
      " 0.30893326 0.31310184 0.31297678 0.31464421 0.31326858 0.33002626\n",
      " 0.32589937 0.32635791 0.32414857 0.33836342 0.34098962 0.33377798\n",
      " 0.33619576 0.35737213 0.35762224 0.3501188  0.33973905 0.35416232\n",
      " 0.37567218 0.366543   0.35666347 0.34653383 0.34253199 0.34274042\n",
      " 0.3349035  0.36245779 0.3691692  0.37692276 0.38384259 0.38263371\n",
      " 0.39522281 0.39513944 0.39088749 0.40339322 0.42402768 0.43332361\n",
      " 0.4406603  0.45666764 0.46358748 0.45479178 0.4717162  0.46187836\n",
      " 0.46454625 0.49714452 0.47346701 0.48764017 0.51065071 0.51844595\n",
      " 0.53728792 0.53436992 0.53391138 0.53587061 0.53136854 0.51702864\n",
      " 0.50944183 0.50802451 0.48376339 0.47659344 0.48209596 0.51181792\n",
      " 0.52569928 0.4992705  0.48376339 0.49610238 0.50235525 0.49556047\n",
      " 0.52378173 0.52878403 0.60656968 0.5892284  0.59610655 0.59660678\n",
      " 0.53078494 0.51944641 0.53553712 0.53983076 0.51102589 0.51060903\n",
      " 0.52507399 0.51469423 0.5191963  0.53453666 0.53211889 0.53253575\n",
      " 0.5186127  0.49757093 0.47725919 0.46077013 0.44941282 0.44128314\n",
      " 0.43373433 0.42474982 0.41346559 0.40006465]\n"
     ]
    },
    {
     "name": "stdout",
     "output_type": "stream",
     "text": [
      "9 day output [[0.3853354]]\n",
      "10 day input [0.29992913 0.2962191  0.28033682 0.30067948 0.30243028 0.30893326\n",
      " 0.31310184 0.31297678 0.31464421 0.31326858 0.33002626 0.32589937\n",
      " 0.32635791 0.32414857 0.33836342 0.34098962 0.33377798 0.33619576\n",
      " 0.35737213 0.35762224 0.3501188  0.33973905 0.35416232 0.37567218\n",
      " 0.366543   0.35666347 0.34653383 0.34253199 0.34274042 0.3349035\n",
      " 0.36245779 0.3691692  0.37692276 0.38384259 0.38263371 0.39522281\n",
      " 0.39513944 0.39088749 0.40339322 0.42402768 0.43332361 0.4406603\n",
      " 0.45666764 0.46358748 0.45479178 0.4717162  0.46187836 0.46454625\n",
      " 0.49714452 0.47346701 0.48764017 0.51065071 0.51844595 0.53728792\n",
      " 0.53436992 0.53391138 0.53587061 0.53136854 0.51702864 0.50944183\n",
      " 0.50802451 0.48376339 0.47659344 0.48209596 0.51181792 0.52569928\n",
      " 0.4992705  0.48376339 0.49610238 0.50235525 0.49556047 0.52378173\n",
      " 0.52878403 0.60656968 0.5892284  0.59610655 0.59660678 0.53078494\n",
      " 0.51944641 0.53553712 0.53983076 0.51102589 0.51060903 0.52507399\n",
      " 0.51469423 0.5191963  0.53453666 0.53211889 0.53253575 0.5186127\n",
      " 0.49757093 0.47725919 0.46077013 0.44941282 0.44128314 0.43373433\n",
      " 0.42474982 0.41346559 0.40006465 0.38533539]\n",
      "10 day output [[0.37016162]]\n",
      "11 day input [0.2962191  0.28033682 0.30067948 0.30243028 0.30893326 0.31310184\n",
      " 0.31297678 0.31464421 0.31326858 0.33002626 0.32589937 0.32635791\n",
      " 0.32414857 0.33836342 0.34098962 0.33377798 0.33619576 0.35737213\n",
      " 0.35762224 0.3501188  0.33973905 0.35416232 0.37567218 0.366543\n",
      " 0.35666347 0.34653383 0.34253199 0.34274042 0.3349035  0.36245779\n",
      " 0.3691692  0.37692276 0.38384259 0.38263371 0.39522281 0.39513944\n",
      " 0.39088749 0.40339322 0.42402768 0.43332361 0.4406603  0.45666764\n",
      " 0.46358748 0.45479178 0.4717162  0.46187836 0.46454625 0.49714452\n",
      " 0.47346701 0.48764017 0.51065071 0.51844595 0.53728792 0.53436992\n",
      " 0.53391138 0.53587061 0.53136854 0.51702864 0.50944183 0.50802451\n",
      " 0.48376339 0.47659344 0.48209596 0.51181792 0.52569928 0.4992705\n",
      " 0.48376339 0.49610238 0.50235525 0.49556047 0.52378173 0.52878403\n",
      " 0.60656968 0.5892284  0.59610655 0.59660678 0.53078494 0.51944641\n",
      " 0.53553712 0.53983076 0.51102589 0.51060903 0.52507399 0.51469423\n",
      " 0.5191963  0.53453666 0.53211889 0.53253575 0.5186127  0.49757093\n",
      " 0.47725919 0.46077013 0.44941282 0.44128314 0.43373433 0.42474982\n",
      " 0.41346559 0.40006465 0.38533539 0.37016162]\n",
      "11 day output [[0.3551761]]\n",
      "12 day input [0.28033682 0.30067948 0.30243028 0.30893326 0.31310184 0.31297678\n",
      " 0.31464421 0.31326858 0.33002626 0.32589937 0.32635791 0.32414857\n",
      " 0.33836342 0.34098962 0.33377798 0.33619576 0.35737213 0.35762224\n",
      " 0.3501188  0.33973905 0.35416232 0.37567218 0.366543   0.35666347\n",
      " 0.34653383 0.34253199 0.34274042 0.3349035  0.36245779 0.3691692\n",
      " 0.37692276 0.38384259 0.38263371 0.39522281 0.39513944 0.39088749\n",
      " 0.40339322 0.42402768 0.43332361 0.4406603  0.45666764 0.46358748\n",
      " 0.45479178 0.4717162  0.46187836 0.46454625 0.49714452 0.47346701\n",
      " 0.48764017 0.51065071 0.51844595 0.53728792 0.53436992 0.53391138\n",
      " 0.53587061 0.53136854 0.51702864 0.50944183 0.50802451 0.48376339\n",
      " 0.47659344 0.48209596 0.51181792 0.52569928 0.4992705  0.48376339\n",
      " 0.49610238 0.50235525 0.49556047 0.52378173 0.52878403 0.60656968\n",
      " 0.5892284  0.59610655 0.59660678 0.53078494 0.51944641 0.53553712\n",
      " 0.53983076 0.51102589 0.51060903 0.52507399 0.51469423 0.5191963\n",
      " 0.53453666 0.53211889 0.53253575 0.5186127  0.49757093 0.47725919\n",
      " 0.46077013 0.44941282 0.44128314 0.43373433 0.42474982 0.41346559\n",
      " 0.40006465 0.38533539 0.37016162 0.35517609]\n",
      "12 day output [[0.340668]]\n",
      "13 day input [0.30067948 0.30243028 0.30893326 0.31310184 0.31297678 0.31464421\n",
      " 0.31326858 0.33002626 0.32589937 0.32635791 0.32414857 0.33836342\n",
      " 0.34098962 0.33377798 0.33619576 0.35737213 0.35762224 0.3501188\n",
      " 0.33973905 0.35416232 0.37567218 0.366543   0.35666347 0.34653383\n",
      " 0.34253199 0.34274042 0.3349035  0.36245779 0.3691692  0.37692276\n",
      " 0.38384259 0.38263371 0.39522281 0.39513944 0.39088749 0.40339322\n",
      " 0.42402768 0.43332361 0.4406603  0.45666764 0.46358748 0.45479178\n",
      " 0.4717162  0.46187836 0.46454625 0.49714452 0.47346701 0.48764017\n",
      " 0.51065071 0.51844595 0.53728792 0.53436992 0.53391138 0.53587061\n",
      " 0.53136854 0.51702864 0.50944183 0.50802451 0.48376339 0.47659344\n",
      " 0.48209596 0.51181792 0.52569928 0.4992705  0.48376339 0.49610238\n",
      " 0.50235525 0.49556047 0.52378173 0.52878403 0.60656968 0.5892284\n",
      " 0.59610655 0.59660678 0.53078494 0.51944641 0.53553712 0.53983076\n",
      " 0.51102589 0.51060903 0.52507399 0.51469423 0.5191963  0.53453666\n",
      " 0.53211889 0.53253575 0.5186127  0.49757093 0.47725919 0.46077013\n",
      " 0.44941282 0.44128314 0.43373433 0.42474982 0.41346559 0.40006465\n",
      " 0.38533539 0.37016162 0.35517609 0.34066799]\n",
      "13 day output [[0.32667586]]\n",
      "14 day input [0.30243028 0.30893326 0.31310184 0.31297678 0.31464421 0.31326858\n",
      " 0.33002626 0.32589937 0.32635791 0.32414857 0.33836342 0.34098962\n",
      " 0.33377798 0.33619576 0.35737213 0.35762224 0.3501188  0.33973905\n",
      " 0.35416232 0.37567218 0.366543   0.35666347 0.34653383 0.34253199\n",
      " 0.34274042 0.3349035  0.36245779 0.3691692  0.37692276 0.38384259\n",
      " 0.38263371 0.39522281 0.39513944 0.39088749 0.40339322 0.42402768\n",
      " 0.43332361 0.4406603  0.45666764 0.46358748 0.45479178 0.4717162\n",
      " 0.46187836 0.46454625 0.49714452 0.47346701 0.48764017 0.51065071\n",
      " 0.51844595 0.53728792 0.53436992 0.53391138 0.53587061 0.53136854\n",
      " 0.51702864 0.50944183 0.50802451 0.48376339 0.47659344 0.48209596\n",
      " 0.51181792 0.52569928 0.4992705  0.48376339 0.49610238 0.50235525\n",
      " 0.49556047 0.52378173 0.52878403 0.60656968 0.5892284  0.59610655\n",
      " 0.59660678 0.53078494 0.51944641 0.53553712 0.53983076 0.51102589\n",
      " 0.51060903 0.52507399 0.51469423 0.5191963  0.53453666 0.53211889\n",
      " 0.53253575 0.5186127  0.49757093 0.47725919 0.46077013 0.44941282\n",
      " 0.44128314 0.43373433 0.42474982 0.41346559 0.40006465 0.38533539\n",
      " 0.37016162 0.35517609 0.34066799 0.32667586]\n",
      "14 day output [[0.31313863]]\n",
      "15 day input [0.30893326 0.31310184 0.31297678 0.31464421 0.31326858 0.33002626\n",
      " 0.32589937 0.32635791 0.32414857 0.33836342 0.34098962 0.33377798\n",
      " 0.33619576 0.35737213 0.35762224 0.3501188  0.33973905 0.35416232\n",
      " 0.37567218 0.366543   0.35666347 0.34653383 0.34253199 0.34274042\n",
      " 0.3349035  0.36245779 0.3691692  0.37692276 0.38384259 0.38263371\n",
      " 0.39522281 0.39513944 0.39088749 0.40339322 0.42402768 0.43332361\n",
      " 0.4406603  0.45666764 0.46358748 0.45479178 0.4717162  0.46187836\n",
      " 0.46454625 0.49714452 0.47346701 0.48764017 0.51065071 0.51844595\n",
      " 0.53728792 0.53436992 0.53391138 0.53587061 0.53136854 0.51702864\n",
      " 0.50944183 0.50802451 0.48376339 0.47659344 0.48209596 0.51181792\n",
      " 0.52569928 0.4992705  0.48376339 0.49610238 0.50235525 0.49556047\n",
      " 0.52378173 0.52878403 0.60656968 0.5892284  0.59610655 0.59660678\n",
      " 0.53078494 0.51944641 0.53553712 0.53983076 0.51102589 0.51060903\n",
      " 0.52507399 0.51469423 0.5191963  0.53453666 0.53211889 0.53253575\n",
      " 0.5186127  0.49757093 0.47725919 0.46077013 0.44941282 0.44128314\n",
      " 0.43373433 0.42474982 0.41346559 0.40006465 0.38533539 0.37016162\n",
      " 0.35517609 0.34066799 0.32667586 0.31313863]\n",
      "15 day output [[0.30000442]]\n",
      "16 day input [0.31310184 0.31297678 0.31464421 0.31326858 0.33002626 0.32589937\n",
      " 0.32635791 0.32414857 0.33836342 0.34098962 0.33377798 0.33619576\n",
      " 0.35737213 0.35762224 0.3501188  0.33973905 0.35416232 0.37567218\n",
      " 0.366543   0.35666347 0.34653383 0.34253199 0.34274042 0.3349035\n",
      " 0.36245779 0.3691692  0.37692276 0.38384259 0.38263371 0.39522281\n",
      " 0.39513944 0.39088749 0.40339322 0.42402768 0.43332361 0.4406603\n",
      " 0.45666764 0.46358748 0.45479178 0.4717162  0.46187836 0.46454625\n",
      " 0.49714452 0.47346701 0.48764017 0.51065071 0.51844595 0.53728792\n",
      " 0.53436992 0.53391138 0.53587061 0.53136854 0.51702864 0.50944183\n",
      " 0.50802451 0.48376339 0.47659344 0.48209596 0.51181792 0.52569928\n",
      " 0.4992705  0.48376339 0.49610238 0.50235525 0.49556047 0.52378173\n",
      " 0.52878403 0.60656968 0.5892284  0.59610655 0.59660678 0.53078494\n",
      " 0.51944641 0.53553712 0.53983076 0.51102589 0.51060903 0.52507399\n",
      " 0.51469423 0.5191963  0.53453666 0.53211889 0.53253575 0.5186127\n",
      " 0.49757093 0.47725919 0.46077013 0.44941282 0.44128314 0.43373433\n",
      " 0.42474982 0.41346559 0.40006465 0.38533539 0.37016162 0.35517609\n",
      " 0.34066799 0.32667586 0.31313863 0.30000442]\n",
      "16 day output [[0.2872791]]\n",
      "17 day input [0.31297678 0.31464421 0.31326858 0.33002626 0.32589937 0.32635791\n",
      " 0.32414857 0.33836342 0.34098962 0.33377798 0.33619576 0.35737213\n",
      " 0.35762224 0.3501188  0.33973905 0.35416232 0.37567218 0.366543\n",
      " 0.35666347 0.34653383 0.34253199 0.34274042 0.3349035  0.36245779\n",
      " 0.3691692  0.37692276 0.38384259 0.38263371 0.39522281 0.39513944\n",
      " 0.39088749 0.40339322 0.42402768 0.43332361 0.4406603  0.45666764\n",
      " 0.46358748 0.45479178 0.4717162  0.46187836 0.46454625 0.49714452\n",
      " 0.47346701 0.48764017 0.51065071 0.51844595 0.53728792 0.53436992\n",
      " 0.53391138 0.53587061 0.53136854 0.51702864 0.50944183 0.50802451\n",
      " 0.48376339 0.47659344 0.48209596 0.51181792 0.52569928 0.4992705\n",
      " 0.48376339 0.49610238 0.50235525 0.49556047 0.52378173 0.52878403\n",
      " 0.60656968 0.5892284  0.59610655 0.59660678 0.53078494 0.51944641\n",
      " 0.53553712 0.53983076 0.51102589 0.51060903 0.52507399 0.51469423\n",
      " 0.5191963  0.53453666 0.53211889 0.53253575 0.5186127  0.49757093\n",
      " 0.47725919 0.46077013 0.44941282 0.44128314 0.43373433 0.42474982\n",
      " 0.41346559 0.40006465 0.38533539 0.37016162 0.35517609 0.34066799\n",
      " 0.32667586 0.31313863 0.30000442 0.2872791 ]\n",
      "17 day output [[0.27502105]]\n",
      "18 day input [0.31464421 0.31326858 0.33002626 0.32589937 0.32635791 0.32414857\n",
      " 0.33836342 0.34098962 0.33377798 0.33619576 0.35737213 0.35762224\n",
      " 0.3501188  0.33973905 0.35416232 0.37567218 0.366543   0.35666347\n",
      " 0.34653383 0.34253199 0.34274042 0.3349035  0.36245779 0.3691692\n",
      " 0.37692276 0.38384259 0.38263371 0.39522281 0.39513944 0.39088749\n",
      " 0.40339322 0.42402768 0.43332361 0.4406603  0.45666764 0.46358748\n",
      " 0.45479178 0.4717162  0.46187836 0.46454625 0.49714452 0.47346701\n",
      " 0.48764017 0.51065071 0.51844595 0.53728792 0.53436992 0.53391138\n",
      " 0.53587061 0.53136854 0.51702864 0.50944183 0.50802451 0.48376339\n",
      " 0.47659344 0.48209596 0.51181792 0.52569928 0.4992705  0.48376339\n",
      " 0.49610238 0.50235525 0.49556047 0.52378173 0.52878403 0.60656968\n",
      " 0.5892284  0.59610655 0.59660678 0.53078494 0.51944641 0.53553712\n",
      " 0.53983076 0.51102589 0.51060903 0.52507399 0.51469423 0.5191963\n",
      " 0.53453666 0.53211889 0.53253575 0.5186127  0.49757093 0.47725919\n",
      " 0.46077013 0.44941282 0.44128314 0.43373433 0.42474982 0.41346559\n",
      " 0.40006465 0.38533539 0.37016162 0.35517609 0.34066799 0.32667586\n",
      " 0.31313863 0.30000442 0.2872791  0.27502105]\n"
     ]
    },
    {
     "name": "stdout",
     "output_type": "stream",
     "text": [
      "18 day output [[0.26331508]]\n",
      "19 day input [0.31326858 0.33002626 0.32589937 0.32635791 0.32414857 0.33836342\n",
      " 0.34098962 0.33377798 0.33619576 0.35737213 0.35762224 0.3501188\n",
      " 0.33973905 0.35416232 0.37567218 0.366543   0.35666347 0.34653383\n",
      " 0.34253199 0.34274042 0.3349035  0.36245779 0.3691692  0.37692276\n",
      " 0.38384259 0.38263371 0.39522281 0.39513944 0.39088749 0.40339322\n",
      " 0.42402768 0.43332361 0.4406603  0.45666764 0.46358748 0.45479178\n",
      " 0.4717162  0.46187836 0.46454625 0.49714452 0.47346701 0.48764017\n",
      " 0.51065071 0.51844595 0.53728792 0.53436992 0.53391138 0.53587061\n",
      " 0.53136854 0.51702864 0.50944183 0.50802451 0.48376339 0.47659344\n",
      " 0.48209596 0.51181792 0.52569928 0.4992705  0.48376339 0.49610238\n",
      " 0.50235525 0.49556047 0.52378173 0.52878403 0.60656968 0.5892284\n",
      " 0.59610655 0.59660678 0.53078494 0.51944641 0.53553712 0.53983076\n",
      " 0.51102589 0.51060903 0.52507399 0.51469423 0.5191963  0.53453666\n",
      " 0.53211889 0.53253575 0.5186127  0.49757093 0.47725919 0.46077013\n",
      " 0.44941282 0.44128314 0.43373433 0.42474982 0.41346559 0.40006465\n",
      " 0.38533539 0.37016162 0.35517609 0.34066799 0.32667586 0.31313863\n",
      " 0.30000442 0.2872791  0.27502105 0.26331508]\n",
      "19 day output [[0.25224337]]\n",
      "20 day input [0.33002626 0.32589937 0.32635791 0.32414857 0.33836342 0.34098962\n",
      " 0.33377798 0.33619576 0.35737213 0.35762224 0.3501188  0.33973905\n",
      " 0.35416232 0.37567218 0.366543   0.35666347 0.34653383 0.34253199\n",
      " 0.34274042 0.3349035  0.36245779 0.3691692  0.37692276 0.38384259\n",
      " 0.38263371 0.39522281 0.39513944 0.39088749 0.40339322 0.42402768\n",
      " 0.43332361 0.4406603  0.45666764 0.46358748 0.45479178 0.4717162\n",
      " 0.46187836 0.46454625 0.49714452 0.47346701 0.48764017 0.51065071\n",
      " 0.51844595 0.53728792 0.53436992 0.53391138 0.53587061 0.53136854\n",
      " 0.51702864 0.50944183 0.50802451 0.48376339 0.47659344 0.48209596\n",
      " 0.51181792 0.52569928 0.4992705  0.48376339 0.49610238 0.50235525\n",
      " 0.49556047 0.52378173 0.52878403 0.60656968 0.5892284  0.59610655\n",
      " 0.59660678 0.53078494 0.51944641 0.53553712 0.53983076 0.51102589\n",
      " 0.51060903 0.52507399 0.51469423 0.5191963  0.53453666 0.53211889\n",
      " 0.53253575 0.5186127  0.49757093 0.47725919 0.46077013 0.44941282\n",
      " 0.44128314 0.43373433 0.42474982 0.41346559 0.40006465 0.38533539\n",
      " 0.37016162 0.35517609 0.34066799 0.32667586 0.31313863 0.30000442\n",
      " 0.2872791  0.27502105 0.26331508 0.25224337]\n",
      "20 day output [[0.24186681]]\n",
      "21 day input [0.32589937 0.32635791 0.32414857 0.33836342 0.34098962 0.33377798\n",
      " 0.33619576 0.35737213 0.35762224 0.3501188  0.33973905 0.35416232\n",
      " 0.37567218 0.366543   0.35666347 0.34653383 0.34253199 0.34274042\n",
      " 0.3349035  0.36245779 0.3691692  0.37692276 0.38384259 0.38263371\n",
      " 0.39522281 0.39513944 0.39088749 0.40339322 0.42402768 0.43332361\n",
      " 0.4406603  0.45666764 0.46358748 0.45479178 0.4717162  0.46187836\n",
      " 0.46454625 0.49714452 0.47346701 0.48764017 0.51065071 0.51844595\n",
      " 0.53728792 0.53436992 0.53391138 0.53587061 0.53136854 0.51702864\n",
      " 0.50944183 0.50802451 0.48376339 0.47659344 0.48209596 0.51181792\n",
      " 0.52569928 0.4992705  0.48376339 0.49610238 0.50235525 0.49556047\n",
      " 0.52378173 0.52878403 0.60656968 0.5892284  0.59610655 0.59660678\n",
      " 0.53078494 0.51944641 0.53553712 0.53983076 0.51102589 0.51060903\n",
      " 0.52507399 0.51469423 0.5191963  0.53453666 0.53211889 0.53253575\n",
      " 0.5186127  0.49757093 0.47725919 0.46077013 0.44941282 0.44128314\n",
      " 0.43373433 0.42474982 0.41346559 0.40006465 0.38533539 0.37016162\n",
      " 0.35517609 0.34066799 0.32667586 0.31313863 0.30000442 0.2872791\n",
      " 0.27502105 0.26331508 0.25224337 0.24186681]\n",
      "21 day output [[0.23221694]]\n",
      "22 day input [0.32635791 0.32414857 0.33836342 0.34098962 0.33377798 0.33619576\n",
      " 0.35737213 0.35762224 0.3501188  0.33973905 0.35416232 0.37567218\n",
      " 0.366543   0.35666347 0.34653383 0.34253199 0.34274042 0.3349035\n",
      " 0.36245779 0.3691692  0.37692276 0.38384259 0.38263371 0.39522281\n",
      " 0.39513944 0.39088749 0.40339322 0.42402768 0.43332361 0.4406603\n",
      " 0.45666764 0.46358748 0.45479178 0.4717162  0.46187836 0.46454625\n",
      " 0.49714452 0.47346701 0.48764017 0.51065071 0.51844595 0.53728792\n",
      " 0.53436992 0.53391138 0.53587061 0.53136854 0.51702864 0.50944183\n",
      " 0.50802451 0.48376339 0.47659344 0.48209596 0.51181792 0.52569928\n",
      " 0.4992705  0.48376339 0.49610238 0.50235525 0.49556047 0.52378173\n",
      " 0.52878403 0.60656968 0.5892284  0.59610655 0.59660678 0.53078494\n",
      " 0.51944641 0.53553712 0.53983076 0.51102589 0.51060903 0.52507399\n",
      " 0.51469423 0.5191963  0.53453666 0.53211889 0.53253575 0.5186127\n",
      " 0.49757093 0.47725919 0.46077013 0.44941282 0.44128314 0.43373433\n",
      " 0.42474982 0.41346559 0.40006465 0.38533539 0.37016162 0.35517609\n",
      " 0.34066799 0.32667586 0.31313863 0.30000442 0.2872791  0.27502105\n",
      " 0.26331508 0.25224337 0.24186681 0.23221694]\n",
      "22 day output [[0.22329594]]\n",
      "23 day input [0.32414857 0.33836342 0.34098962 0.33377798 0.33619576 0.35737213\n",
      " 0.35762224 0.3501188  0.33973905 0.35416232 0.37567218 0.366543\n",
      " 0.35666347 0.34653383 0.34253199 0.34274042 0.3349035  0.36245779\n",
      " 0.3691692  0.37692276 0.38384259 0.38263371 0.39522281 0.39513944\n",
      " 0.39088749 0.40339322 0.42402768 0.43332361 0.4406603  0.45666764\n",
      " 0.46358748 0.45479178 0.4717162  0.46187836 0.46454625 0.49714452\n",
      " 0.47346701 0.48764017 0.51065071 0.51844595 0.53728792 0.53436992\n",
      " 0.53391138 0.53587061 0.53136854 0.51702864 0.50944183 0.50802451\n",
      " 0.48376339 0.47659344 0.48209596 0.51181792 0.52569928 0.4992705\n",
      " 0.48376339 0.49610238 0.50235525 0.49556047 0.52378173 0.52878403\n",
      " 0.60656968 0.5892284  0.59610655 0.59660678 0.53078494 0.51944641\n",
      " 0.53553712 0.53983076 0.51102589 0.51060903 0.52507399 0.51469423\n",
      " 0.5191963  0.53453666 0.53211889 0.53253575 0.5186127  0.49757093\n",
      " 0.47725919 0.46077013 0.44941282 0.44128314 0.43373433 0.42474982\n",
      " 0.41346559 0.40006465 0.38533539 0.37016162 0.35517609 0.34066799\n",
      " 0.32667586 0.31313863 0.30000442 0.2872791  0.27502105 0.26331508\n",
      " 0.25224337 0.24186681 0.23221694 0.22329594]\n",
      "23 day output [[0.2150829]]\n",
      "24 day input [0.33836342 0.34098962 0.33377798 0.33619576 0.35737213 0.35762224\n",
      " 0.3501188  0.33973905 0.35416232 0.37567218 0.366543   0.35666347\n",
      " 0.34653383 0.34253199 0.34274042 0.3349035  0.36245779 0.3691692\n",
      " 0.37692276 0.38384259 0.38263371 0.39522281 0.39513944 0.39088749\n",
      " 0.40339322 0.42402768 0.43332361 0.4406603  0.45666764 0.46358748\n",
      " 0.45479178 0.4717162  0.46187836 0.46454625 0.49714452 0.47346701\n",
      " 0.48764017 0.51065071 0.51844595 0.53728792 0.53436992 0.53391138\n",
      " 0.53587061 0.53136854 0.51702864 0.50944183 0.50802451 0.48376339\n",
      " 0.47659344 0.48209596 0.51181792 0.52569928 0.4992705  0.48376339\n",
      " 0.49610238 0.50235525 0.49556047 0.52378173 0.52878403 0.60656968\n",
      " 0.5892284  0.59610655 0.59660678 0.53078494 0.51944641 0.53553712\n",
      " 0.53983076 0.51102589 0.51060903 0.52507399 0.51469423 0.5191963\n",
      " 0.53453666 0.53211889 0.53253575 0.5186127  0.49757093 0.47725919\n",
      " 0.46077013 0.44941282 0.44128314 0.43373433 0.42474982 0.41346559\n",
      " 0.40006465 0.38533539 0.37016162 0.35517609 0.34066799 0.32667586\n",
      " 0.31313863 0.30000442 0.2872791  0.27502105 0.26331508 0.25224337\n",
      " 0.24186681 0.23221694 0.22329594 0.2150829 ]\n",
      "24 day output [[0.20753986]]\n",
      "25 day input [0.34098962 0.33377798 0.33619576 0.35737213 0.35762224 0.3501188\n",
      " 0.33973905 0.35416232 0.37567218 0.366543   0.35666347 0.34653383\n",
      " 0.34253199 0.34274042 0.3349035  0.36245779 0.3691692  0.37692276\n",
      " 0.38384259 0.38263371 0.39522281 0.39513944 0.39088749 0.40339322\n",
      " 0.42402768 0.43332361 0.4406603  0.45666764 0.46358748 0.45479178\n",
      " 0.4717162  0.46187836 0.46454625 0.49714452 0.47346701 0.48764017\n",
      " 0.51065071 0.51844595 0.53728792 0.53436992 0.53391138 0.53587061\n",
      " 0.53136854 0.51702864 0.50944183 0.50802451 0.48376339 0.47659344\n",
      " 0.48209596 0.51181792 0.52569928 0.4992705  0.48376339 0.49610238\n",
      " 0.50235525 0.49556047 0.52378173 0.52878403 0.60656968 0.5892284\n",
      " 0.59610655 0.59660678 0.53078494 0.51944641 0.53553712 0.53983076\n",
      " 0.51102589 0.51060903 0.52507399 0.51469423 0.5191963  0.53453666\n",
      " 0.53211889 0.53253575 0.5186127  0.49757093 0.47725919 0.46077013\n",
      " 0.44941282 0.44128314 0.43373433 0.42474982 0.41346559 0.40006465\n",
      " 0.38533539 0.37016162 0.35517609 0.34066799 0.32667586 0.31313863\n",
      " 0.30000442 0.2872791  0.27502105 0.26331508 0.25224337 0.24186681\n",
      " 0.23221694 0.22329594 0.2150829  0.20753986]\n",
      "25 day output [[0.2006187]]\n",
      "26 day input [0.33377798 0.33619576 0.35737213 0.35762224 0.3501188  0.33973905\n",
      " 0.35416232 0.37567218 0.366543   0.35666347 0.34653383 0.34253199\n",
      " 0.34274042 0.3349035  0.36245779 0.3691692  0.37692276 0.38384259\n",
      " 0.38263371 0.39522281 0.39513944 0.39088749 0.40339322 0.42402768\n",
      " 0.43332361 0.4406603  0.45666764 0.46358748 0.45479178 0.4717162\n",
      " 0.46187836 0.46454625 0.49714452 0.47346701 0.48764017 0.51065071\n",
      " 0.51844595 0.53728792 0.53436992 0.53391138 0.53587061 0.53136854\n",
      " 0.51702864 0.50944183 0.50802451 0.48376339 0.47659344 0.48209596\n",
      " 0.51181792 0.52569928 0.4992705  0.48376339 0.49610238 0.50235525\n",
      " 0.49556047 0.52378173 0.52878403 0.60656968 0.5892284  0.59610655\n",
      " 0.59660678 0.53078494 0.51944641 0.53553712 0.53983076 0.51102589\n",
      " 0.51060903 0.52507399 0.51469423 0.5191963  0.53453666 0.53211889\n",
      " 0.53253575 0.5186127  0.49757093 0.47725919 0.46077013 0.44941282\n",
      " 0.44128314 0.43373433 0.42474982 0.41346559 0.40006465 0.38533539\n",
      " 0.37016162 0.35517609 0.34066799 0.32667586 0.31313863 0.30000442\n",
      " 0.2872791  0.27502105 0.26331508 0.25224337 0.24186681 0.23221694\n",
      " 0.22329594 0.2150829  0.20753986 0.2006187 ]\n",
      "26 day output [[0.19426508]]\n",
      "27 day input [0.33619576 0.35737213 0.35762224 0.3501188  0.33973905 0.35416232\n",
      " 0.37567218 0.366543   0.35666347 0.34653383 0.34253199 0.34274042\n",
      " 0.3349035  0.36245779 0.3691692  0.37692276 0.38384259 0.38263371\n",
      " 0.39522281 0.39513944 0.39088749 0.40339322 0.42402768 0.43332361\n",
      " 0.4406603  0.45666764 0.46358748 0.45479178 0.4717162  0.46187836\n",
      " 0.46454625 0.49714452 0.47346701 0.48764017 0.51065071 0.51844595\n",
      " 0.53728792 0.53436992 0.53391138 0.53587061 0.53136854 0.51702864\n",
      " 0.50944183 0.50802451 0.48376339 0.47659344 0.48209596 0.51181792\n",
      " 0.52569928 0.4992705  0.48376339 0.49610238 0.50235525 0.49556047\n",
      " 0.52378173 0.52878403 0.60656968 0.5892284  0.59610655 0.59660678\n",
      " 0.53078494 0.51944641 0.53553712 0.53983076 0.51102589 0.51060903\n",
      " 0.52507399 0.51469423 0.5191963  0.53453666 0.53211889 0.53253575\n",
      " 0.5186127  0.49757093 0.47725919 0.46077013 0.44941282 0.44128314\n",
      " 0.43373433 0.42474982 0.41346559 0.40006465 0.38533539 0.37016162\n",
      " 0.35517609 0.34066799 0.32667586 0.31313863 0.30000442 0.2872791\n",
      " 0.27502105 0.26331508 0.25224337 0.24186681 0.23221694 0.22329594\n",
      " 0.2150829  0.20753986 0.2006187  0.19426508]\n"
     ]
    },
    {
     "name": "stdout",
     "output_type": "stream",
     "text": [
      "27 day output [[0.18842274]]\n",
      "28 day input [0.35737213 0.35762224 0.3501188  0.33973905 0.35416232 0.37567218\n",
      " 0.366543   0.35666347 0.34653383 0.34253199 0.34274042 0.3349035\n",
      " 0.36245779 0.3691692  0.37692276 0.38384259 0.38263371 0.39522281\n",
      " 0.39513944 0.39088749 0.40339322 0.42402768 0.43332361 0.4406603\n",
      " 0.45666764 0.46358748 0.45479178 0.4717162  0.46187836 0.46454625\n",
      " 0.49714452 0.47346701 0.48764017 0.51065071 0.51844595 0.53728792\n",
      " 0.53436992 0.53391138 0.53587061 0.53136854 0.51702864 0.50944183\n",
      " 0.50802451 0.48376339 0.47659344 0.48209596 0.51181792 0.52569928\n",
      " 0.4992705  0.48376339 0.49610238 0.50235525 0.49556047 0.52378173\n",
      " 0.52878403 0.60656968 0.5892284  0.59610655 0.59660678 0.53078494\n",
      " 0.51944641 0.53553712 0.53983076 0.51102589 0.51060903 0.52507399\n",
      " 0.51469423 0.5191963  0.53453666 0.53211889 0.53253575 0.5186127\n",
      " 0.49757093 0.47725919 0.46077013 0.44941282 0.44128314 0.43373433\n",
      " 0.42474982 0.41346559 0.40006465 0.38533539 0.37016162 0.35517609\n",
      " 0.34066799 0.32667586 0.31313863 0.30000442 0.2872791  0.27502105\n",
      " 0.26331508 0.25224337 0.24186681 0.23221694 0.22329594 0.2150829\n",
      " 0.20753986 0.2006187  0.19426508 0.18842274]\n",
      "28 day output [[0.18303633]]\n",
      "29 day input [0.35762224 0.3501188  0.33973905 0.35416232 0.37567218 0.366543\n",
      " 0.35666347 0.34653383 0.34253199 0.34274042 0.3349035  0.36245779\n",
      " 0.3691692  0.37692276 0.38384259 0.38263371 0.39522281 0.39513944\n",
      " 0.39088749 0.40339322 0.42402768 0.43332361 0.4406603  0.45666764\n",
      " 0.46358748 0.45479178 0.4717162  0.46187836 0.46454625 0.49714452\n",
      " 0.47346701 0.48764017 0.51065071 0.51844595 0.53728792 0.53436992\n",
      " 0.53391138 0.53587061 0.53136854 0.51702864 0.50944183 0.50802451\n",
      " 0.48376339 0.47659344 0.48209596 0.51181792 0.52569928 0.4992705\n",
      " 0.48376339 0.49610238 0.50235525 0.49556047 0.52378173 0.52878403\n",
      " 0.60656968 0.5892284  0.59610655 0.59660678 0.53078494 0.51944641\n",
      " 0.53553712 0.53983076 0.51102589 0.51060903 0.52507399 0.51469423\n",
      " 0.5191963  0.53453666 0.53211889 0.53253575 0.5186127  0.49757093\n",
      " 0.47725919 0.46077013 0.44941282 0.44128314 0.43373433 0.42474982\n",
      " 0.41346559 0.40006465 0.38533539 0.37016162 0.35517609 0.34066799\n",
      " 0.32667586 0.31313863 0.30000442 0.2872791  0.27502105 0.26331508\n",
      " 0.25224337 0.24186681 0.23221694 0.22329594 0.2150829  0.20753986\n",
      " 0.2006187  0.19426508 0.18842274 0.18303633]\n",
      "29 day output [[0.17805316]]\n",
      "[[0.4975709319114685], [0.47725918889045715], [0.4607701301574707], [0.44941282272338867], [0.44128313660621643], [0.43373432755470276], [0.42474982142448425], [0.41346558928489685], [0.4000646471977234], [0.38533538579940796], [0.37016162276268005], [0.35517609119415283], [0.3406679928302765], [0.3266758620738983], [0.3131386339664459], [0.30000442266464233], [0.2872790992259979], [0.2750210464000702], [0.2633150815963745], [0.25224336981773376], [0.2418668121099472], [0.232216939330101], [0.22329594194889069], [0.21508289873600006], [0.2075398564338684], [0.2006186991930008], [0.19426508247852325], [0.18842273950576782], [0.18303632736206055], [0.17805315554141998]]\n"
     ]
    }
   ],
   "source": [
    "# demonstrate prediction for next 10 days\n",
    "from numpy import array\n",
    "\n",
    "lst_output=[]\n",
    "n_steps=100\n",
    "i=0\n",
    "while(i<30):\n",
    "    \n",
    "    if(len(temp_input)>100):\n",
    "        #print(temp_input)\n",
    "        x_input=np.array(temp_input[1:])\n",
    "        print(\"{} day input {}\".format(i,x_input))\n",
    "        x_input=x_input.reshape(1,-1)\n",
    "        x_input = x_input.reshape((1, n_steps, 1))\n",
    "        #print(x_input)\n",
    "        yhat = model.predict(x_input, verbose=0)\n",
    "        print(\"{} day output {}\".format(i,yhat))\n",
    "        temp_input.extend(yhat[0].tolist())\n",
    "        temp_input=temp_input[1:]\n",
    "        #print(temp_input)\n",
    "        lst_output.extend(yhat.tolist())\n",
    "        i=i+1\n",
    "    else:\n",
    "        x_input = x_input.reshape((1, n_steps,1))\n",
    "        yhat = model.predict(x_input, verbose=0)\n",
    "        print(yhat[0])\n",
    "        temp_input.extend(yhat[0].tolist())\n",
    "        print(len(temp_input))\n",
    "        lst_output.extend(yhat.tolist())\n",
    "        i=i+1\n",
    "    \n",
    "\n",
    "print(lst_output)"
   ]
  },
  {
   "cell_type": "code",
   "execution_count": 41,
   "id": "04963ce1",
   "metadata": {},
   "outputs": [],
   "source": [
    "day_new=np.arange(1,101)\n",
    "day_pred=np.arange(101,131)"
   ]
  },
  {
   "cell_type": "code",
   "execution_count": 42,
   "id": "71ba3bda",
   "metadata": {},
   "outputs": [
    {
     "data": {
      "text/plain": [
       "3322"
      ]
     },
     "execution_count": 42,
     "metadata": {},
     "output_type": "execute_result"
    }
   ],
   "source": [
    "len(data1)"
   ]
  },
  {
   "cell_type": "code",
   "execution_count": 45,
   "id": "168eeffb",
   "metadata": {},
   "outputs": [
    {
     "data": {
      "text/plain": [
       "[<matplotlib.lines.Line2D at 0x2446faef450>]"
      ]
     },
     "execution_count": 45,
     "metadata": {},
     "output_type": "execute_result"
    },
    {
     "data": {
      "image/png": "[encoded data removed]",
      "text/plain": [
       "<Figure size 640x480 with 1 Axes>"
      ]
     },
     "metadata": {},
     "output_type": "display_data"
    }
   ],
   "source": [
    "plt.plot(day_new,scaler.inverse_transform(data1[3222:]))\n",
    "plt.plot(day_pred,scaler.inverse_transform(lst_output))"
   ]
  },
  {
   "cell_type": "code",
   "execution_count": 46,
   "id": "a9797977",
   "metadata": {},
   "outputs": [
    {
     "data": {
      "text/plain": [
       "[<matplotlib.lines.Line2D at 0x2446d45df90>]"
      ]
     },
     "execution_count": 46,
     "metadata": {},
     "output_type": "execute_result"
    },
    {
     "data": {
      "image/png": "[encoded data removed]",
      "text/plain": [
       "<Figure size 640x480 with 1 Axes>"
      ]
     },
     "metadata": {},
     "output_type": "display_data"
    }
   ],
   "source": [
    "data2=data1.tolist()\n",
    "data2.extend(lst_output)\n",
    "plt.plot(data2[1200:])"
   ]
  }
 ],
 "metadata": {
  "kernelspec": {
   "display_name": "Python 3 (ipykernel)",
   "language": "python",
   "name": "python3"
  },
  "language_info": {
   "codemirror_mode": {
    "name": "ipython",
    "version": 3
   },
   "file_extension": ".py",
   "mimetype": "text/x-python",
   "name": "python",
   "nbconvert_exporter": "python",
   "pygments_lexer": "ipython3",
   "version": "3.11.3"
  }
 },
 "nbformat": 4,
 "nbformat_minor": 5
}
